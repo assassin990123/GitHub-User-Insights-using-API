{
 "cells": [
  {
   "cell_type": "markdown",
   "metadata": {},
   "source": [
    "# Data collection\n",
    "\n",
    "In this notebook, I'll use the **GitHub API** to extract various information from my user profile such as repositories, commits and more. I'll also save this data to **.csv** files so that I can draw insights."
   ]
  },
  {
   "cell_type": "markdown",
   "metadata": {
    "heading_collapsed": true
   },
   "source": [
    "## Import libraries and defining constants\n",
    "\n",
    "I'll import various libraries needed for fetching the data."
   ]
  },
  {
   "cell_type": "code",
   "execution_count": 10,
   "metadata": {
    "hidden": true
   },
   "outputs": [],
   "source": [
    "import json\n",
    "import requests\n",
    "import numpy as np\n",
    "import pandas as pd"
   ]
  },
  {
   "cell_type": "markdown",
   "metadata": {
    "hidden": true
   },
   "source": [
    "As `username` is something that I'd like to be variable, I decided to store it in a variable."
   ]
  },
  {
   "cell_type": "code",
   "execution_count": 3,
   "metadata": {
    "hidden": true
   },
   "outputs": [],
   "source": [
    "USERNAME = 'kb22'"
   ]
  },
  {
   "cell_type": "markdown",
   "metadata": {
    "heading_collapsed": true
   },
   "source": [
    "## User information\n",
    "\n",
    "I'll first extract the user information such as name and related URLs which would be useful ahead."
   ]
  },
  {
   "cell_type": "code",
   "execution_count": 138,
   "metadata": {
    "hidden": true
   },
   "outputs": [
    {
     "data": {
      "text/plain": [
       "{u'documentation_url': u'https://developer.github.com/v3/#rate-limiting',\n",
       " u'message': u\"API rate limit exceeded for 103.21.19.10. (But here's the good news: Authenticated requests get a higher rate limit. Check out the documentation for more details.)\"}"
      ]
     },
     "execution_count": 138,
     "metadata": {},
     "output_type": "execute_result"
    }
   ],
   "source": [
    "data = requests.get(url = 'https://api.github.com/users/' + USERNAME)\n",
    "data = data.json()\n",
    "data"
   ]
  },
  {
   "cell_type": "markdown",
   "metadata": {
    "hidden": true
   },
   "source": [
    "From the json output above, I'll try to extract basic information such as `bio`, `name`, `public_repos`, `public gists`. I'll also keep some of the urls handy inluding `repos_url`, `gists_url` and `blog`."
   ]
  },
  {
   "cell_type": "code",
   "execution_count": 51,
   "metadata": {
    "hidden": true
   },
   "outputs": [
    {
     "name": "stdout",
     "output_type": "stream",
     "text": [
      "Information about user kb22:\n",
      "\n",
      "Name: Karan Bhanot\n",
      "About: Working with Python, Machine Learning and Deep Learning to explore the field of Data Science and Machine Learning.\n",
      "Repos: 36\n",
      "Gists: 208\n"
     ]
    }
   ],
   "source": [
    "print(\"Information about user {}:\\n\".format(USERNAME))\n",
    "print(\"Name: {}\".format(data['name']))\n",
    "print(\"About: {}\".format(data['bio']))\n",
    "print(\"Repos: {}\".format(data['public_repos']))\n",
    "print(\"Gists: {}\".format(data['public_gists']))"
   ]
  },
  {
   "cell_type": "markdown",
   "metadata": {},
   "source": [
    "## Repositories\n",
    "\n",
    "Next, I'll fetch repositories for the user."
   ]
  },
  {
   "cell_type": "code",
   "execution_count": 137,
   "metadata": {},
   "outputs": [
    {
     "ename": "TypeError",
     "evalue": "list indices must be integers, not str",
     "output_type": "error",
     "traceback": [
      "\u001b[0;31m---------------------------------------------------------------------------\u001b[0m",
      "\u001b[0;31mTypeError\u001b[0m                                 Traceback (most recent call last)",
      "\u001b[0;32m<ipython-input-137-ebd7e68b8fea>\u001b[0m in \u001b[0;36m<module>\u001b[0;34m()\u001b[0m\n\u001b[0;32m----> 1\u001b[0;31m \u001b[0mREPOS_URL\u001b[0m \u001b[0;34m=\u001b[0m \u001b[0mdata\u001b[0m\u001b[0;34m[\u001b[0m\u001b[0;34m'repos_url'\u001b[0m\u001b[0;34m]\u001b[0m\u001b[0;34m\u001b[0m\u001b[0m\n\u001b[0m\u001b[1;32m      2\u001b[0m \u001b[0mrepos_data\u001b[0m \u001b[0;34m=\u001b[0m \u001b[0mrequests\u001b[0m\u001b[0;34m.\u001b[0m\u001b[0mget\u001b[0m\u001b[0;34m(\u001b[0m\u001b[0mREPOS_URL\u001b[0m\u001b[0;34m)\u001b[0m\u001b[0;34m\u001b[0m\u001b[0m\n\u001b[1;32m      3\u001b[0m \u001b[0mrepos_data\u001b[0m \u001b[0;34m=\u001b[0m \u001b[0mrepos_data\u001b[0m\u001b[0;34m.\u001b[0m\u001b[0mjson\u001b[0m\u001b[0;34m(\u001b[0m\u001b[0;34m)\u001b[0m\u001b[0;34m\u001b[0m\u001b[0m\n",
      "\u001b[0;31mTypeError\u001b[0m: list indices must be integers, not str"
     ]
    }
   ],
   "source": [
    "REPOS_URL = data['repos_url']\n",
    "repos_data = requests.get(REPOS_URL)\n",
    "repos_data = repos_data.json()"
   ]
  },
  {
   "cell_type": "markdown",
   "metadata": {},
   "source": [
    "I'll first explore only one repository information and take a look at all the information I can keep."
   ]
  },
  {
   "cell_type": "code",
   "execution_count": 52,
   "metadata": {},
   "outputs": [
    {
     "data": {
      "text/plain": [
       "{u'archive_url': u'https://api.github.com/repos/kb22/Activity-Recognition-using-Machine-Learning/{archive_format}{/ref}',\n",
       " u'archived': False,\n",
       " u'assignees_url': u'https://api.github.com/repos/kb22/Activity-Recognition-using-Machine-Learning/assignees{/user}',\n",
       " u'blobs_url': u'https://api.github.com/repos/kb22/Activity-Recognition-using-Machine-Learning/git/blobs{/sha}',\n",
       " u'branches_url': u'https://api.github.com/repos/kb22/Activity-Recognition-using-Machine-Learning/branches{/branch}',\n",
       " u'clone_url': u'https://github.com/kb22/Activity-Recognition-using-Machine-Learning.git',\n",
       " u'collaborators_url': u'https://api.github.com/repos/kb22/Activity-Recognition-using-Machine-Learning/collaborators{/collaborator}',\n",
       " u'comments_url': u'https://api.github.com/repos/kb22/Activity-Recognition-using-Machine-Learning/comments{/number}',\n",
       " u'commits_url': u'https://api.github.com/repos/kb22/Activity-Recognition-using-Machine-Learning/commits{/sha}',\n",
       " u'compare_url': u'https://api.github.com/repos/kb22/Activity-Recognition-using-Machine-Learning/compare/{base}...{head}',\n",
       " u'contents_url': u'https://api.github.com/repos/kb22/Activity-Recognition-using-Machine-Learning/contents/{+path}',\n",
       " u'contributors_url': u'https://api.github.com/repos/kb22/Activity-Recognition-using-Machine-Learning/contributors',\n",
       " u'created_at': u'2018-10-23T14:40:38Z',\n",
       " u'default_branch': u'master',\n",
       " u'deployments_url': u'https://api.github.com/repos/kb22/Activity-Recognition-using-Machine-Learning/deployments',\n",
       " u'description': u'Use machine learning to classify various activities.',\n",
       " u'disabled': False,\n",
       " u'downloads_url': u'https://api.github.com/repos/kb22/Activity-Recognition-using-Machine-Learning/downloads',\n",
       " u'events_url': u'https://api.github.com/repos/kb22/Activity-Recognition-using-Machine-Learning/events',\n",
       " u'fork': False,\n",
       " u'forks': 3,\n",
       " u'forks_count': 3,\n",
       " u'forks_url': u'https://api.github.com/repos/kb22/Activity-Recognition-using-Machine-Learning/forks',\n",
       " u'full_name': u'kb22/Activity-Recognition-using-Machine-Learning',\n",
       " u'git_commits_url': u'https://api.github.com/repos/kb22/Activity-Recognition-using-Machine-Learning/git/commits{/sha}',\n",
       " u'git_refs_url': u'https://api.github.com/repos/kb22/Activity-Recognition-using-Machine-Learning/git/refs{/sha}',\n",
       " u'git_tags_url': u'https://api.github.com/repos/kb22/Activity-Recognition-using-Machine-Learning/git/tags{/sha}',\n",
       " u'git_url': u'git://github.com/kb22/Activity-Recognition-using-Machine-Learning.git',\n",
       " u'has_downloads': True,\n",
       " u'has_issues': True,\n",
       " u'has_pages': False,\n",
       " u'has_projects': True,\n",
       " u'has_wiki': True,\n",
       " u'homepage': None,\n",
       " u'hooks_url': u'https://api.github.com/repos/kb22/Activity-Recognition-using-Machine-Learning/hooks',\n",
       " u'html_url': u'https://github.com/kb22/Activity-Recognition-using-Machine-Learning',\n",
       " u'id': 154344656,\n",
       " u'issue_comment_url': u'https://api.github.com/repos/kb22/Activity-Recognition-using-Machine-Learning/issues/comments{/number}',\n",
       " u'issue_events_url': u'https://api.github.com/repos/kb22/Activity-Recognition-using-Machine-Learning/issues/events{/number}',\n",
       " u'issues_url': u'https://api.github.com/repos/kb22/Activity-Recognition-using-Machine-Learning/issues{/number}',\n",
       " u'keys_url': u'https://api.github.com/repos/kb22/Activity-Recognition-using-Machine-Learning/keys{/key_id}',\n",
       " u'labels_url': u'https://api.github.com/repos/kb22/Activity-Recognition-using-Machine-Learning/labels{/name}',\n",
       " u'language': u'Jupyter Notebook',\n",
       " u'languages_url': u'https://api.github.com/repos/kb22/Activity-Recognition-using-Machine-Learning/languages',\n",
       " u'license': {u'key': u'mit',\n",
       "  u'name': u'MIT License',\n",
       "  u'node_id': u'MDc6TGljZW5zZTEz',\n",
       "  u'spdx_id': u'MIT',\n",
       "  u'url': u'https://api.github.com/licenses/mit'},\n",
       " u'merges_url': u'https://api.github.com/repos/kb22/Activity-Recognition-using-Machine-Learning/merges',\n",
       " u'milestones_url': u'https://api.github.com/repos/kb22/Activity-Recognition-using-Machine-Learning/milestones{/number}',\n",
       " u'mirror_url': None,\n",
       " u'name': u'Activity-Recognition-using-Machine-Learning',\n",
       " u'node_id': u'MDEwOlJlcG9zaXRvcnkxNTQzNDQ2NTY=',\n",
       " u'notifications_url': u'https://api.github.com/repos/kb22/Activity-Recognition-using-Machine-Learning/notifications{?since,all,participating}',\n",
       " u'open_issues': 0,\n",
       " u'open_issues_count': 0,\n",
       " u'owner': {u'avatar_url': u'https://avatars3.githubusercontent.com/u/14316277?v=4',\n",
       "  u'events_url': u'https://api.github.com/users/kb22/events{/privacy}',\n",
       "  u'followers_url': u'https://api.github.com/users/kb22/followers',\n",
       "  u'following_url': u'https://api.github.com/users/kb22/following{/other_user}',\n",
       "  u'gists_url': u'https://api.github.com/users/kb22/gists{/gist_id}',\n",
       "  u'gravatar_id': u'',\n",
       "  u'html_url': u'https://github.com/kb22',\n",
       "  u'id': 14316277,\n",
       "  u'login': u'kb22',\n",
       "  u'node_id': u'MDQ6VXNlcjE0MzE2Mjc3',\n",
       "  u'organizations_url': u'https://api.github.com/users/kb22/orgs',\n",
       "  u'received_events_url': u'https://api.github.com/users/kb22/received_events',\n",
       "  u'repos_url': u'https://api.github.com/users/kb22/repos',\n",
       "  u'site_admin': False,\n",
       "  u'starred_url': u'https://api.github.com/users/kb22/starred{/owner}{/repo}',\n",
       "  u'subscriptions_url': u'https://api.github.com/users/kb22/subscriptions',\n",
       "  u'type': u'User',\n",
       "  u'url': u'https://api.github.com/users/kb22'},\n",
       " u'private': False,\n",
       " u'pulls_url': u'https://api.github.com/repos/kb22/Activity-Recognition-using-Machine-Learning/pulls{/number}',\n",
       " u'pushed_at': u'2018-10-29T13:10:27Z',\n",
       " u'releases_url': u'https://api.github.com/repos/kb22/Activity-Recognition-using-Machine-Learning/releases{/id}',\n",
       " u'size': 25570,\n",
       " u'ssh_url': u'git@github.com:kb22/Activity-Recognition-using-Machine-Learning.git',\n",
       " u'stargazers_count': 1,\n",
       " u'stargazers_url': u'https://api.github.com/repos/kb22/Activity-Recognition-using-Machine-Learning/stargazers',\n",
       " u'statuses_url': u'https://api.github.com/repos/kb22/Activity-Recognition-using-Machine-Learning/statuses/{sha}',\n",
       " u'subscribers_url': u'https://api.github.com/repos/kb22/Activity-Recognition-using-Machine-Learning/subscribers',\n",
       " u'subscription_url': u'https://api.github.com/repos/kb22/Activity-Recognition-using-Machine-Learning/subscription',\n",
       " u'svn_url': u'https://github.com/kb22/Activity-Recognition-using-Machine-Learning',\n",
       " u'tags_url': u'https://api.github.com/repos/kb22/Activity-Recognition-using-Machine-Learning/tags',\n",
       " u'teams_url': u'https://api.github.com/repos/kb22/Activity-Recognition-using-Machine-Learning/teams',\n",
       " u'trees_url': u'https://api.github.com/repos/kb22/Activity-Recognition-using-Machine-Learning/git/trees{/sha}',\n",
       " u'updated_at': u'2019-04-30T08:00:17Z',\n",
       " u'url': u'https://api.github.com/repos/kb22/Activity-Recognition-using-Machine-Learning',\n",
       " u'watchers': 1,\n",
       " u'watchers_count': 1}"
      ]
     },
     "execution_count": 52,
     "metadata": {},
     "output_type": "execute_result"
    }
   ],
   "source": [
    "repos_data[0]"
   ]
  },
  {
   "cell_type": "markdown",
   "metadata": {},
   "source": [
    "There are a number of things that we can keep a track of here. I'll select the following:\n",
    "1. id: Unique id for the repository.\n",
    "2. forks_count: Total forks of the repository.\n",
    "3. has_wiki: A boolean that signifies if the repository has a wiki document.\n",
    "4. license: The license type (if any).\n",
    "5. name: The name of the repository.\n",
    "6. open_issues_count: Total issues opened in the repository.\n",
    "7. watchers_count: Total users watching the repository.\n",
    "8. created_at: The time and date when the repository was first created.\n",
    "9. description: The description of the repository.\n",
    "10. updated_at: The time and date when the repository was last updated.\n",
    "11. login: Username of the owner of the repository.\n",
    "12. stargazers_count: The total stars on the reepository."
   ]
  },
  {
   "cell_type": "markdown",
   "metadata": {},
   "source": [
    "I'll also keep track of some urls for further analysis including:\n",
    "1. url: The url of the repository.\n",
    "2. tags_url: Tags for a given repository.\n",
    "3. languages_url: All languages in the repository.\n",
    "4. commits_url: List of all commits in the repository.\n",
    "5. branches_url: Branches in the repository.\n",
    "\n",
    "The urls for languages, commits and branches, I'll remove the end value inside the braces."
   ]
  },
  {
   "cell_type": "code",
   "execution_count": 127,
   "metadata": {},
   "outputs": [],
   "source": [
    "repos_information = []\n",
    "for i, repo in enumerate(repos_data):\n",
    "    data = []\n",
    "    data.append(repo['id'])\n",
    "    data.append(repo['name'].encode(\"utf-8\"))\n",
    "    data.append(repo['description'].encode(\"utf-8\") if repo['description'] != None else \"\")\n",
    "    data.append(repo['created_at'].encode(\"utf-8\"))\n",
    "    data.append(repo['updated_at'].encode(\"utf-8\"))\n",
    "    data.append(repo['owner']['login'].encode(\"utf-8\"))\n",
    "    data.append(repo['license']['name'].encode(\"utf-8\") if repo['license'] != None else None)\n",
    "    data.append(repo['has_wiki'])\n",
    "    data.append(repo['forks_count'])\n",
    "    data.append(repo['open_issues_count'])\n",
    "    data.append(repo['stargazers_count'])\n",
    "    data.append(repo['watchers_count'])\n",
    "    data.append(repo['url'].encode(\"utf-8\"))\n",
    "    data.append(repo['languages_url'].encode(\"utf-8\"))\n",
    "    data.append(repo['commits_url'].encode(\"utf-8\").split(\"{\")[0])\n",
    "    data.append(repo['branches_url'].encode(\"utf-8\").split(\"{\")[0])\n",
    "    data.append('https://api.github.com/repos/' + USERNAME + '/' + repo['name'].encode(\"utf-8\") + '/topics')\n",
    "    repos_information.append(data)"
   ]
  },
  {
   "cell_type": "code",
   "execution_count": 132,
   "metadata": {},
   "outputs": [
    {
     "data": {
      "text/html": [
       "<div>\n",
       "<style scoped>\n",
       "    .dataframe tbody tr th:only-of-type {\n",
       "        vertical-align: middle;\n",
       "    }\n",
       "\n",
       "    .dataframe tbody tr th {\n",
       "        vertical-align: top;\n",
       "    }\n",
       "\n",
       "    .dataframe thead th {\n",
       "        text-align: right;\n",
       "    }\n",
       "</style>\n",
       "<table border=\"1\" class=\"dataframe\">\n",
       "  <thead>\n",
       "    <tr style=\"text-align: right;\">\n",
       "      <th></th>\n",
       "      <th>Id</th>\n",
       "      <th>Name</th>\n",
       "      <th>Description</th>\n",
       "      <th>Created on</th>\n",
       "      <th>Updated on</th>\n",
       "      <th>Owner</th>\n",
       "      <th>License</th>\n",
       "      <th>Includes wiki</th>\n",
       "      <th>Forks count</th>\n",
       "      <th>Issues count</th>\n",
       "      <th>Stars count</th>\n",
       "      <th>Watchers count</th>\n",
       "      <th>Repo URL</th>\n",
       "      <th>Languages URL</th>\n",
       "      <th>Commits URL</th>\n",
       "      <th>Branches URL</th>\n",
       "      <th>Topics URL</th>\n",
       "    </tr>\n",
       "  </thead>\n",
       "  <tbody>\n",
       "    <tr>\n",
       "      <th>0</th>\n",
       "      <td>154344656</td>\n",
       "      <td>Activity-Recognition-using-Machine-Learning</td>\n",
       "      <td>Use machine learning to classify various activ...</td>\n",
       "      <td>2018-10-23T14:40:38Z</td>\n",
       "      <td>2019-04-30T08:00:17Z</td>\n",
       "      <td>kb22</td>\n",
       "      <td>MIT License</td>\n",
       "      <td>True</td>\n",
       "      <td>3</td>\n",
       "      <td>0</td>\n",
       "      <td>1</td>\n",
       "      <td>1</td>\n",
       "      <td>https://api.github.com/repos/kb22/Activity-Rec...</td>\n",
       "      <td>https://api.github.com/repos/kb22/Activity-Rec...</td>\n",
       "      <td>https://api.github.com/repos/kb22/Activity-Rec...</td>\n",
       "      <td>https://api.github.com/repos/kb22/Activity-Rec...</td>\n",
       "      <td>https://api.github.com/repos/kb22/Activity-Rec...</td>\n",
       "    </tr>\n",
       "    <tr>\n",
       "      <th>1</th>\n",
       "      <td>98045107</td>\n",
       "      <td>Animation-in-C</td>\n",
       "      <td>A frame by frame Animation designed in C Langu...</td>\n",
       "      <td>2017-07-22T16:52:58Z</td>\n",
       "      <td>2017-07-22T17:06:23Z</td>\n",
       "      <td>kb22</td>\n",
       "      <td>None</td>\n",
       "      <td>True</td>\n",
       "      <td>0</td>\n",
       "      <td>0</td>\n",
       "      <td>0</td>\n",
       "      <td>0</td>\n",
       "      <td>https://api.github.com/repos/kb22/Animation-in-C</td>\n",
       "      <td>https://api.github.com/repos/kb22/Animation-in...</td>\n",
       "      <td>https://api.github.com/repos/kb22/Animation-in...</td>\n",
       "      <td>https://api.github.com/repos/kb22/Animation-in...</td>\n",
       "      <td>https://api.github.com/repos/kb22/Animation-in...</td>\n",
       "    </tr>\n",
       "    <tr>\n",
       "      <th>2</th>\n",
       "      <td>175083480</td>\n",
       "      <td>Article-Recommender</td>\n",
       "      <td>Using LDA, the project recommends Wikipedia ar...</td>\n",
       "      <td>2019-03-11T21:04:20Z</td>\n",
       "      <td>2019-06-17T12:54:23Z</td>\n",
       "      <td>kb22</td>\n",
       "      <td>MIT License</td>\n",
       "      <td>True</td>\n",
       "      <td>2</td>\n",
       "      <td>0</td>\n",
       "      <td>3</td>\n",
       "      <td>3</td>\n",
       "      <td>https://api.github.com/repos/kb22/Article-Reco...</td>\n",
       "      <td>https://api.github.com/repos/kb22/Article-Reco...</td>\n",
       "      <td>https://api.github.com/repos/kb22/Article-Reco...</td>\n",
       "      <td>https://api.github.com/repos/kb22/Article-Reco...</td>\n",
       "      <td>https://api.github.com/repos/kb22/Article-Reco...</td>\n",
       "    </tr>\n",
       "    <tr>\n",
       "      <th>3</th>\n",
       "      <td>104722536</td>\n",
       "      <td>Attendance-Marker</td>\n",
       "      <td>A QR Code based attendance tracking application.</td>\n",
       "      <td>2017-09-25T08:20:58Z</td>\n",
       "      <td>2017-09-25T08:22:21Z</td>\n",
       "      <td>kb22</td>\n",
       "      <td>None</td>\n",
       "      <td>True</td>\n",
       "      <td>0</td>\n",
       "      <td>0</td>\n",
       "      <td>0</td>\n",
       "      <td>0</td>\n",
       "      <td>https://api.github.com/repos/kb22/Attendance-M...</td>\n",
       "      <td>https://api.github.com/repos/kb22/Attendance-M...</td>\n",
       "      <td>https://api.github.com/repos/kb22/Attendance-M...</td>\n",
       "      <td>https://api.github.com/repos/kb22/Attendance-M...</td>\n",
       "      <td>https://api.github.com/repos/kb22/Attendance-M...</td>\n",
       "    </tr>\n",
       "    <tr>\n",
       "      <th>4</th>\n",
       "      <td>161978072</td>\n",
       "      <td>Color-Identification-using-Machine-Learning</td>\n",
       "      <td>This project uses Machine Learning to extract ...</td>\n",
       "      <td>2018-12-16T07:27:38Z</td>\n",
       "      <td>2019-06-19T08:26:32Z</td>\n",
       "      <td>kb22</td>\n",
       "      <td>MIT License</td>\n",
       "      <td>True</td>\n",
       "      <td>3</td>\n",
       "      <td>0</td>\n",
       "      <td>11</td>\n",
       "      <td>11</td>\n",
       "      <td>https://api.github.com/repos/kb22/Color-Identi...</td>\n",
       "      <td>https://api.github.com/repos/kb22/Color-Identi...</td>\n",
       "      <td>https://api.github.com/repos/kb22/Color-Identi...</td>\n",
       "      <td>https://api.github.com/repos/kb22/Color-Identi...</td>\n",
       "      <td>https://api.github.com/repos/kb22/Color-Identi...</td>\n",
       "    </tr>\n",
       "  </tbody>\n",
       "</table>\n",
       "</div>"
      ],
      "text/plain": [
       "          Id                                         Name  \\\n",
       "0  154344656  Activity-Recognition-using-Machine-Learning   \n",
       "1   98045107                               Animation-in-C   \n",
       "2  175083480                          Article-Recommender   \n",
       "3  104722536                            Attendance-Marker   \n",
       "4  161978072  Color-Identification-using-Machine-Learning   \n",
       "\n",
       "                                         Description            Created on  \\\n",
       "0  Use machine learning to classify various activ...  2018-10-23T14:40:38Z   \n",
       "1  A frame by frame Animation designed in C Langu...  2017-07-22T16:52:58Z   \n",
       "2  Using LDA, the project recommends Wikipedia ar...  2019-03-11T21:04:20Z   \n",
       "3   A QR Code based attendance tracking application.  2017-09-25T08:20:58Z   \n",
       "4  This project uses Machine Learning to extract ...  2018-12-16T07:27:38Z   \n",
       "\n",
       "             Updated on Owner      License  Includes wiki  Forks count  \\\n",
       "0  2019-04-30T08:00:17Z  kb22  MIT License           True            3   \n",
       "1  2017-07-22T17:06:23Z  kb22         None           True            0   \n",
       "2  2019-06-17T12:54:23Z  kb22  MIT License           True            2   \n",
       "3  2017-09-25T08:22:21Z  kb22         None           True            0   \n",
       "4  2019-06-19T08:26:32Z  kb22  MIT License           True            3   \n",
       "\n",
       "   Issues count  Stars count  Watchers count  \\\n",
       "0             0            1               1   \n",
       "1             0            0               0   \n",
       "2             0            3               3   \n",
       "3             0            0               0   \n",
       "4             0           11              11   \n",
       "\n",
       "                                            Repo URL  \\\n",
       "0  https://api.github.com/repos/kb22/Activity-Rec...   \n",
       "1   https://api.github.com/repos/kb22/Animation-in-C   \n",
       "2  https://api.github.com/repos/kb22/Article-Reco...   \n",
       "3  https://api.github.com/repos/kb22/Attendance-M...   \n",
       "4  https://api.github.com/repos/kb22/Color-Identi...   \n",
       "\n",
       "                                       Languages URL  \\\n",
       "0  https://api.github.com/repos/kb22/Activity-Rec...   \n",
       "1  https://api.github.com/repos/kb22/Animation-in...   \n",
       "2  https://api.github.com/repos/kb22/Article-Reco...   \n",
       "3  https://api.github.com/repos/kb22/Attendance-M...   \n",
       "4  https://api.github.com/repos/kb22/Color-Identi...   \n",
       "\n",
       "                                         Commits URL  \\\n",
       "0  https://api.github.com/repos/kb22/Activity-Rec...   \n",
       "1  https://api.github.com/repos/kb22/Animation-in...   \n",
       "2  https://api.github.com/repos/kb22/Article-Reco...   \n",
       "3  https://api.github.com/repos/kb22/Attendance-M...   \n",
       "4  https://api.github.com/repos/kb22/Color-Identi...   \n",
       "\n",
       "                                        Branches URL  \\\n",
       "0  https://api.github.com/repos/kb22/Activity-Rec...   \n",
       "1  https://api.github.com/repos/kb22/Animation-in...   \n",
       "2  https://api.github.com/repos/kb22/Article-Reco...   \n",
       "3  https://api.github.com/repos/kb22/Attendance-M...   \n",
       "4  https://api.github.com/repos/kb22/Color-Identi...   \n",
       "\n",
       "                                          Topics URL  \n",
       "0  https://api.github.com/repos/kb22/Activity-Rec...  \n",
       "1  https://api.github.com/repos/kb22/Animation-in...  \n",
       "2  https://api.github.com/repos/kb22/Article-Reco...  \n",
       "3  https://api.github.com/repos/kb22/Attendance-M...  \n",
       "4  https://api.github.com/repos/kb22/Color-Identi...  "
      ]
     },
     "execution_count": 132,
     "metadata": {},
     "output_type": "execute_result"
    }
   ],
   "source": [
    "repos_df = pd.DataFrame(repos_information, columns = ['Id', 'Name', 'Description', 'Created on', 'Updated on', \n",
    "                                                      'Owner', 'License', 'Includes wiki', 'Forks count', \n",
    "                                                      'Issues count', 'Stars count', 'Watchers count', 'Repo URL', \n",
    "                                                      'Languages URL', 'Commits URL', 'Branches URL', 'Topics URL'])\n",
    "repos_df.head(5)"
   ]
  },
  {
   "cell_type": "markdown",
   "metadata": {},
   "source": [
    "I'll publish this data into a .csv file called **repos_info.csv**"
   ]
  },
  {
   "cell_type": "code",
   "execution_count": 133,
   "metadata": {},
   "outputs": [],
   "source": [
    "repos_df.to_csv('repos_info.csv', index = False)"
   ]
  },
  {
   "cell_type": "markdown",
   "metadata": {
    "heading_collapsed": true
   },
   "source": [
    "## Topics\n",
    "\n",
    "For topics of each repository, I'll iterate through all repos' `Topics URL` and get the corresponding data."
   ]
  },
  {
   "cell_type": "code",
   "execution_count": 142,
   "metadata": {
    "hidden": true
   },
   "outputs": [
    {
     "name": "stdout",
     "output_type": "stream",
     "text": [
      "Could not fetch data due to: API rate limit exceeded for 103.21.19.10. (But here's the good news: Authenticated requests get a higher rate limit. Check out the documentation for more details.)\n",
      "Could not fetch data due to: API rate limit exceeded for 103.21.19.10. (But here's the good news: Authenticated requests get a higher rate limit. Check out the documentation for more details.)\n",
      "Could not fetch data due to: API rate limit exceeded for 103.21.19.10. (But here's the good news: Authenticated requests get a higher rate limit. Check out the documentation for more details.)\n",
      "Could not fetch data due to: API rate limit exceeded for 103.21.19.10. (But here's the good news: Authenticated requests get a higher rate limit. Check out the documentation for more details.)\n",
      "Could not fetch data due to: API rate limit exceeded for 103.21.19.10. (But here's the good news: Authenticated requests get a higher rate limit. Check out the documentation for more details.)\n",
      "Could not fetch data due to: API rate limit exceeded for 103.21.19.10. (But here's the good news: Authenticated requests get a higher rate limit. Check out the documentation for more details.)\n",
      "Could not fetch data due to: API rate limit exceeded for 103.21.19.10. (But here's the good news: Authenticated requests get a higher rate limit. Check out the documentation for more details.)\n",
      "Could not fetch data due to: API rate limit exceeded for 103.21.19.10. (But here's the good news: Authenticated requests get a higher rate limit. Check out the documentation for more details.)\n",
      "Could not fetch data due to: API rate limit exceeded for 103.21.19.10. (But here's the good news: Authenticated requests get a higher rate limit. Check out the documentation for more details.)\n",
      "Could not fetch data due to: API rate limit exceeded for 103.21.19.10. (But here's the good news: Authenticated requests get a higher rate limit. Check out the documentation for more details.)\n",
      "Could not fetch data due to: API rate limit exceeded for 103.21.19.10. (But here's the good news: Authenticated requests get a higher rate limit. Check out the documentation for more details.)\n",
      "Could not fetch data due to: API rate limit exceeded for 103.21.19.10. (But here's the good news: Authenticated requests get a higher rate limit. Check out the documentation for more details.)\n",
      "Could not fetch data due to: API rate limit exceeded for 103.21.19.10. (But here's the good news: Authenticated requests get a higher rate limit. Check out the documentation for more details.)\n"
     ]
    },
    {
     "ename": "KeyboardInterrupt",
     "evalue": "",
     "output_type": "error",
     "traceback": [
      "\u001b[0;31m---------------------------------------------------------------------------\u001b[0m",
      "\u001b[0;31mKeyboardInterrupt\u001b[0m                         Traceback (most recent call last)",
      "\u001b[0;32m<ipython-input-142-826cd628ceb0>\u001b[0m in \u001b[0;36m<module>\u001b[0;34m()\u001b[0m\n\u001b[1;32m      2\u001b[0m     response = requests.get(repos_df.loc[i, 'Topics URL'], \n\u001b[1;32m      3\u001b[0m                      headers = {\"Accept\": \"application/vnd.github.mercy-preview+json\",\n\u001b[0;32m----> 4\u001b[0;31m                                 \"content-type\":\"application/json\"})\n\u001b[0m\u001b[1;32m      5\u001b[0m     \u001b[0mresponse\u001b[0m \u001b[0;34m=\u001b[0m \u001b[0mresponse\u001b[0m\u001b[0;34m.\u001b[0m\u001b[0mjson\u001b[0m\u001b[0;34m(\u001b[0m\u001b[0;34m)\u001b[0m\u001b[0;34m\u001b[0m\u001b[0m\n\u001b[1;32m      6\u001b[0m     \u001b[0;32mif\u001b[0m \u001b[0;32mnot\u001b[0m \u001b[0mresponse\u001b[0m\u001b[0;34m[\u001b[0m\u001b[0;34m'message'\u001b[0m\u001b[0;34m]\u001b[0m\u001b[0;34m:\u001b[0m\u001b[0;34m\u001b[0m\u001b[0m\n",
      "\u001b[0;32m/usr/local/lib/python2.7/site-packages/requests/api.pyc\u001b[0m in \u001b[0;36mget\u001b[0;34m(url, params, **kwargs)\u001b[0m\n\u001b[1;32m     73\u001b[0m \u001b[0;34m\u001b[0m\u001b[0m\n\u001b[1;32m     74\u001b[0m     \u001b[0mkwargs\u001b[0m\u001b[0;34m.\u001b[0m\u001b[0msetdefault\u001b[0m\u001b[0;34m(\u001b[0m\u001b[0;34m'allow_redirects'\u001b[0m\u001b[0;34m,\u001b[0m \u001b[0mTrue\u001b[0m\u001b[0;34m)\u001b[0m\u001b[0;34m\u001b[0m\u001b[0m\n\u001b[0;32m---> 75\u001b[0;31m     \u001b[0;32mreturn\u001b[0m \u001b[0mrequest\u001b[0m\u001b[0;34m(\u001b[0m\u001b[0;34m'get'\u001b[0m\u001b[0;34m,\u001b[0m \u001b[0murl\u001b[0m\u001b[0;34m,\u001b[0m \u001b[0mparams\u001b[0m\u001b[0;34m=\u001b[0m\u001b[0mparams\u001b[0m\u001b[0;34m,\u001b[0m \u001b[0;34m**\u001b[0m\u001b[0mkwargs\u001b[0m\u001b[0;34m)\u001b[0m\u001b[0;34m\u001b[0m\u001b[0m\n\u001b[0m\u001b[1;32m     76\u001b[0m \u001b[0;34m\u001b[0m\u001b[0m\n\u001b[1;32m     77\u001b[0m \u001b[0;34m\u001b[0m\u001b[0m\n",
      "\u001b[0;32m/usr/local/lib/python2.7/site-packages/requests/api.pyc\u001b[0m in \u001b[0;36mrequest\u001b[0;34m(method, url, **kwargs)\u001b[0m\n\u001b[1;32m     58\u001b[0m     \u001b[0;31m# cases, and look like a memory leak in others.\u001b[0m\u001b[0;34m\u001b[0m\u001b[0;34m\u001b[0m\u001b[0m\n\u001b[1;32m     59\u001b[0m     \u001b[0;32mwith\u001b[0m \u001b[0msessions\u001b[0m\u001b[0;34m.\u001b[0m\u001b[0mSession\u001b[0m\u001b[0;34m(\u001b[0m\u001b[0;34m)\u001b[0m \u001b[0;32mas\u001b[0m \u001b[0msession\u001b[0m\u001b[0;34m:\u001b[0m\u001b[0;34m\u001b[0m\u001b[0m\n\u001b[0;32m---> 60\u001b[0;31m         \u001b[0;32mreturn\u001b[0m \u001b[0msession\u001b[0m\u001b[0;34m.\u001b[0m\u001b[0mrequest\u001b[0m\u001b[0;34m(\u001b[0m\u001b[0mmethod\u001b[0m\u001b[0;34m=\u001b[0m\u001b[0mmethod\u001b[0m\u001b[0;34m,\u001b[0m \u001b[0murl\u001b[0m\u001b[0;34m=\u001b[0m\u001b[0murl\u001b[0m\u001b[0;34m,\u001b[0m \u001b[0;34m**\u001b[0m\u001b[0mkwargs\u001b[0m\u001b[0;34m)\u001b[0m\u001b[0;34m\u001b[0m\u001b[0m\n\u001b[0m\u001b[1;32m     61\u001b[0m \u001b[0;34m\u001b[0m\u001b[0m\n\u001b[1;32m     62\u001b[0m \u001b[0;34m\u001b[0m\u001b[0m\n",
      "\u001b[0;32m/usr/local/lib/python2.7/site-packages/requests/sessions.pyc\u001b[0m in \u001b[0;36mrequest\u001b[0;34m(self, method, url, params, data, headers, cookies, files, auth, timeout, allow_redirects, proxies, hooks, stream, verify, cert, json)\u001b[0m\n\u001b[1;32m    531\u001b[0m         }\n\u001b[1;32m    532\u001b[0m         \u001b[0msend_kwargs\u001b[0m\u001b[0;34m.\u001b[0m\u001b[0mupdate\u001b[0m\u001b[0;34m(\u001b[0m\u001b[0msettings\u001b[0m\u001b[0;34m)\u001b[0m\u001b[0;34m\u001b[0m\u001b[0m\n\u001b[0;32m--> 533\u001b[0;31m         \u001b[0mresp\u001b[0m \u001b[0;34m=\u001b[0m \u001b[0mself\u001b[0m\u001b[0;34m.\u001b[0m\u001b[0msend\u001b[0m\u001b[0;34m(\u001b[0m\u001b[0mprep\u001b[0m\u001b[0;34m,\u001b[0m \u001b[0;34m**\u001b[0m\u001b[0msend_kwargs\u001b[0m\u001b[0;34m)\u001b[0m\u001b[0;34m\u001b[0m\u001b[0m\n\u001b[0m\u001b[1;32m    534\u001b[0m \u001b[0;34m\u001b[0m\u001b[0m\n\u001b[1;32m    535\u001b[0m         \u001b[0;32mreturn\u001b[0m \u001b[0mresp\u001b[0m\u001b[0;34m\u001b[0m\u001b[0m\n",
      "\u001b[0;32m/usr/local/lib/python2.7/site-packages/requests/sessions.pyc\u001b[0m in \u001b[0;36msend\u001b[0;34m(self, request, **kwargs)\u001b[0m\n\u001b[1;32m    644\u001b[0m \u001b[0;34m\u001b[0m\u001b[0m\n\u001b[1;32m    645\u001b[0m         \u001b[0;31m# Send the request\u001b[0m\u001b[0;34m\u001b[0m\u001b[0;34m\u001b[0m\u001b[0m\n\u001b[0;32m--> 646\u001b[0;31m         \u001b[0mr\u001b[0m \u001b[0;34m=\u001b[0m \u001b[0madapter\u001b[0m\u001b[0;34m.\u001b[0m\u001b[0msend\u001b[0m\u001b[0;34m(\u001b[0m\u001b[0mrequest\u001b[0m\u001b[0;34m,\u001b[0m \u001b[0;34m**\u001b[0m\u001b[0mkwargs\u001b[0m\u001b[0;34m)\u001b[0m\u001b[0;34m\u001b[0m\u001b[0m\n\u001b[0m\u001b[1;32m    647\u001b[0m \u001b[0;34m\u001b[0m\u001b[0m\n\u001b[1;32m    648\u001b[0m         \u001b[0;31m# Total elapsed time of the request (approximately)\u001b[0m\u001b[0;34m\u001b[0m\u001b[0;34m\u001b[0m\u001b[0m\n",
      "\u001b[0;32m/usr/local/lib/python2.7/site-packages/requests/adapters.pyc\u001b[0m in \u001b[0;36msend\u001b[0;34m(self, request, stream, timeout, verify, cert, proxies)\u001b[0m\n\u001b[1;32m    447\u001b[0m                     \u001b[0mdecode_content\u001b[0m\u001b[0;34m=\u001b[0m\u001b[0mFalse\u001b[0m\u001b[0;34m,\u001b[0m\u001b[0;34m\u001b[0m\u001b[0m\n\u001b[1;32m    448\u001b[0m                     \u001b[0mretries\u001b[0m\u001b[0;34m=\u001b[0m\u001b[0mself\u001b[0m\u001b[0;34m.\u001b[0m\u001b[0mmax_retries\u001b[0m\u001b[0;34m,\u001b[0m\u001b[0;34m\u001b[0m\u001b[0m\n\u001b[0;32m--> 449\u001b[0;31m                     \u001b[0mtimeout\u001b[0m\u001b[0;34m=\u001b[0m\u001b[0mtimeout\u001b[0m\u001b[0;34m\u001b[0m\u001b[0m\n\u001b[0m\u001b[1;32m    450\u001b[0m                 )\n\u001b[1;32m    451\u001b[0m \u001b[0;34m\u001b[0m\u001b[0m\n",
      "\u001b[0;32m/usr/local/lib/python2.7/site-packages/urllib3/connectionpool.pyc\u001b[0m in \u001b[0;36murlopen\u001b[0;34m(self, method, url, body, headers, retries, redirect, assert_same_host, timeout, pool_timeout, release_conn, chunked, body_pos, **response_kw)\u001b[0m\n\u001b[1;32m    598\u001b[0m                                                   \u001b[0mtimeout\u001b[0m\u001b[0;34m=\u001b[0m\u001b[0mtimeout_obj\u001b[0m\u001b[0;34m,\u001b[0m\u001b[0;34m\u001b[0m\u001b[0m\n\u001b[1;32m    599\u001b[0m                                                   \u001b[0mbody\u001b[0m\u001b[0;34m=\u001b[0m\u001b[0mbody\u001b[0m\u001b[0;34m,\u001b[0m \u001b[0mheaders\u001b[0m\u001b[0;34m=\u001b[0m\u001b[0mheaders\u001b[0m\u001b[0;34m,\u001b[0m\u001b[0;34m\u001b[0m\u001b[0m\n\u001b[0;32m--> 600\u001b[0;31m                                                   chunked=chunked)\n\u001b[0m\u001b[1;32m    601\u001b[0m \u001b[0;34m\u001b[0m\u001b[0m\n\u001b[1;32m    602\u001b[0m             \u001b[0;31m# If we're going to release the connection in ``finally:``, then\u001b[0m\u001b[0;34m\u001b[0m\u001b[0;34m\u001b[0m\u001b[0m\n",
      "\u001b[0;32m/usr/local/lib/python2.7/site-packages/urllib3/connectionpool.pyc\u001b[0m in \u001b[0;36m_make_request\u001b[0;34m(self, conn, method, url, timeout, chunked, **httplib_request_kw)\u001b[0m\n\u001b[1;32m    341\u001b[0m         \u001b[0;31m# Trigger any extra validation we need to do.\u001b[0m\u001b[0;34m\u001b[0m\u001b[0;34m\u001b[0m\u001b[0m\n\u001b[1;32m    342\u001b[0m         \u001b[0;32mtry\u001b[0m\u001b[0;34m:\u001b[0m\u001b[0;34m\u001b[0m\u001b[0m\n\u001b[0;32m--> 343\u001b[0;31m             \u001b[0mself\u001b[0m\u001b[0;34m.\u001b[0m\u001b[0m_validate_conn\u001b[0m\u001b[0;34m(\u001b[0m\u001b[0mconn\u001b[0m\u001b[0;34m)\u001b[0m\u001b[0;34m\u001b[0m\u001b[0m\n\u001b[0m\u001b[1;32m    344\u001b[0m         \u001b[0;32mexcept\u001b[0m \u001b[0;34m(\u001b[0m\u001b[0mSocketTimeout\u001b[0m\u001b[0;34m,\u001b[0m \u001b[0mBaseSSLError\u001b[0m\u001b[0;34m)\u001b[0m \u001b[0;32mas\u001b[0m \u001b[0me\u001b[0m\u001b[0;34m:\u001b[0m\u001b[0;34m\u001b[0m\u001b[0m\n\u001b[1;32m    345\u001b[0m             \u001b[0;31m# Py2 raises this as a BaseSSLError, Py3 raises it as socket timeout.\u001b[0m\u001b[0;34m\u001b[0m\u001b[0;34m\u001b[0m\u001b[0m\n",
      "\u001b[0;32m/usr/local/lib/python2.7/site-packages/urllib3/connectionpool.pyc\u001b[0m in \u001b[0;36m_validate_conn\u001b[0;34m(self, conn)\u001b[0m\n\u001b[1;32m    837\u001b[0m         \u001b[0;31m# Force connect early to allow us to validate the connection.\u001b[0m\u001b[0;34m\u001b[0m\u001b[0;34m\u001b[0m\u001b[0m\n\u001b[1;32m    838\u001b[0m         \u001b[0;32mif\u001b[0m \u001b[0;32mnot\u001b[0m \u001b[0mgetattr\u001b[0m\u001b[0;34m(\u001b[0m\u001b[0mconn\u001b[0m\u001b[0;34m,\u001b[0m \u001b[0;34m'sock'\u001b[0m\u001b[0;34m,\u001b[0m \u001b[0mNone\u001b[0m\u001b[0;34m)\u001b[0m\u001b[0;34m:\u001b[0m  \u001b[0;31m# AppEngine might not have  `.sock`\u001b[0m\u001b[0;34m\u001b[0m\u001b[0m\n\u001b[0;32m--> 839\u001b[0;31m             \u001b[0mconn\u001b[0m\u001b[0;34m.\u001b[0m\u001b[0mconnect\u001b[0m\u001b[0;34m(\u001b[0m\u001b[0;34m)\u001b[0m\u001b[0;34m\u001b[0m\u001b[0m\n\u001b[0m\u001b[1;32m    840\u001b[0m \u001b[0;34m\u001b[0m\u001b[0m\n\u001b[1;32m    841\u001b[0m         \u001b[0;32mif\u001b[0m \u001b[0;32mnot\u001b[0m \u001b[0mconn\u001b[0m\u001b[0;34m.\u001b[0m\u001b[0mis_verified\u001b[0m\u001b[0;34m:\u001b[0m\u001b[0;34m\u001b[0m\u001b[0m\n",
      "\u001b[0;32m/usr/local/lib/python2.7/site-packages/urllib3/connection.pyc\u001b[0m in \u001b[0;36mconnect\u001b[0;34m(self)\u001b[0m\n\u001b[1;32m    342\u001b[0m             \u001b[0mca_cert_dir\u001b[0m\u001b[0;34m=\u001b[0m\u001b[0mself\u001b[0m\u001b[0;34m.\u001b[0m\u001b[0mca_cert_dir\u001b[0m\u001b[0;34m,\u001b[0m\u001b[0;34m\u001b[0m\u001b[0m\n\u001b[1;32m    343\u001b[0m             \u001b[0mserver_hostname\u001b[0m\u001b[0;34m=\u001b[0m\u001b[0mserver_hostname\u001b[0m\u001b[0;34m,\u001b[0m\u001b[0;34m\u001b[0m\u001b[0m\n\u001b[0;32m--> 344\u001b[0;31m             ssl_context=context)\n\u001b[0m\u001b[1;32m    345\u001b[0m \u001b[0;34m\u001b[0m\u001b[0m\n\u001b[1;32m    346\u001b[0m         \u001b[0;32mif\u001b[0m \u001b[0mself\u001b[0m\u001b[0;34m.\u001b[0m\u001b[0massert_fingerprint\u001b[0m\u001b[0;34m:\u001b[0m\u001b[0;34m\u001b[0m\u001b[0m\n",
      "\u001b[0;32m/usr/local/lib/python2.7/site-packages/urllib3/util/ssl_.pyc\u001b[0m in \u001b[0;36mssl_wrap_socket\u001b[0;34m(sock, keyfile, certfile, cert_reqs, ca_certs, server_hostname, ssl_version, ciphers, ssl_context, ca_cert_dir)\u001b[0m\n\u001b[1;32m    342\u001b[0m             or IS_SECURETRANSPORT):\n\u001b[1;32m    343\u001b[0m         \u001b[0;32mif\u001b[0m \u001b[0mHAS_SNI\u001b[0m \u001b[0;32mand\u001b[0m \u001b[0mserver_hostname\u001b[0m \u001b[0;32mis\u001b[0m \u001b[0;32mnot\u001b[0m \u001b[0mNone\u001b[0m\u001b[0;34m:\u001b[0m\u001b[0;34m\u001b[0m\u001b[0m\n\u001b[0;32m--> 344\u001b[0;31m             \u001b[0;32mreturn\u001b[0m \u001b[0mcontext\u001b[0m\u001b[0;34m.\u001b[0m\u001b[0mwrap_socket\u001b[0m\u001b[0;34m(\u001b[0m\u001b[0msock\u001b[0m\u001b[0;34m,\u001b[0m \u001b[0mserver_hostname\u001b[0m\u001b[0;34m=\u001b[0m\u001b[0mserver_hostname\u001b[0m\u001b[0;34m)\u001b[0m\u001b[0;34m\u001b[0m\u001b[0m\n\u001b[0m\u001b[1;32m    345\u001b[0m \u001b[0;34m\u001b[0m\u001b[0m\n\u001b[1;32m    346\u001b[0m         warnings.warn(\n",
      "\u001b[0;32m/usr/local/Cellar/python@2/2.7.15_2/Frameworks/Python.framework/Versions/2.7/lib/python2.7/ssl.pyc\u001b[0m in \u001b[0;36mwrap_socket\u001b[0;34m(self, sock, server_side, do_handshake_on_connect, suppress_ragged_eofs, server_hostname)\u001b[0m\n\u001b[1;32m    367\u001b[0m                          \u001b[0msuppress_ragged_eofs\u001b[0m\u001b[0;34m=\u001b[0m\u001b[0msuppress_ragged_eofs\u001b[0m\u001b[0;34m,\u001b[0m\u001b[0;34m\u001b[0m\u001b[0m\n\u001b[1;32m    368\u001b[0m                          \u001b[0mserver_hostname\u001b[0m\u001b[0;34m=\u001b[0m\u001b[0mserver_hostname\u001b[0m\u001b[0;34m,\u001b[0m\u001b[0;34m\u001b[0m\u001b[0m\n\u001b[0;32m--> 369\u001b[0;31m                          _context=self)\n\u001b[0m\u001b[1;32m    370\u001b[0m \u001b[0;34m\u001b[0m\u001b[0m\n\u001b[1;32m    371\u001b[0m     \u001b[0;32mdef\u001b[0m \u001b[0mset_npn_protocols\u001b[0m\u001b[0;34m(\u001b[0m\u001b[0mself\u001b[0m\u001b[0;34m,\u001b[0m \u001b[0mnpn_protocols\u001b[0m\u001b[0;34m)\u001b[0m\u001b[0;34m:\u001b[0m\u001b[0;34m\u001b[0m\u001b[0m\n",
      "\u001b[0;32m/usr/local/Cellar/python@2/2.7.15_2/Frameworks/Python.framework/Versions/2.7/lib/python2.7/ssl.pyc\u001b[0m in \u001b[0;36m__init__\u001b[0;34m(self, sock, keyfile, certfile, server_side, cert_reqs, ssl_version, ca_certs, do_handshake_on_connect, family, type, proto, fileno, suppress_ragged_eofs, npn_protocols, ciphers, server_hostname, _context)\u001b[0m\n\u001b[1;32m    615\u001b[0m                         \u001b[0;31m# non-blocking\u001b[0m\u001b[0;34m\u001b[0m\u001b[0;34m\u001b[0m\u001b[0m\n\u001b[1;32m    616\u001b[0m                         \u001b[0;32mraise\u001b[0m \u001b[0mValueError\u001b[0m\u001b[0;34m(\u001b[0m\u001b[0;34m\"do_handshake_on_connect should not be specified for non-blocking sockets\"\u001b[0m\u001b[0;34m)\u001b[0m\u001b[0;34m\u001b[0m\u001b[0m\n\u001b[0;32m--> 617\u001b[0;31m                     \u001b[0mself\u001b[0m\u001b[0;34m.\u001b[0m\u001b[0mdo_handshake\u001b[0m\u001b[0;34m(\u001b[0m\u001b[0;34m)\u001b[0m\u001b[0;34m\u001b[0m\u001b[0m\n\u001b[0m\u001b[1;32m    618\u001b[0m \u001b[0;34m\u001b[0m\u001b[0m\n\u001b[1;32m    619\u001b[0m             \u001b[0;32mexcept\u001b[0m \u001b[0;34m(\u001b[0m\u001b[0mOSError\u001b[0m\u001b[0;34m,\u001b[0m \u001b[0mValueError\u001b[0m\u001b[0;34m)\u001b[0m\u001b[0;34m:\u001b[0m\u001b[0;34m\u001b[0m\u001b[0m\n",
      "\u001b[0;32m/usr/local/Cellar/python@2/2.7.15_2/Frameworks/Python.framework/Versions/2.7/lib/python2.7/ssl.pyc\u001b[0m in \u001b[0;36mdo_handshake\u001b[0;34m(self, block)\u001b[0m\n\u001b[1;32m    844\u001b[0m             \u001b[0;32mif\u001b[0m \u001b[0mtimeout\u001b[0m \u001b[0;34m==\u001b[0m \u001b[0;36m0.0\u001b[0m \u001b[0;32mand\u001b[0m \u001b[0mblock\u001b[0m\u001b[0;34m:\u001b[0m\u001b[0;34m\u001b[0m\u001b[0m\n\u001b[1;32m    845\u001b[0m                 \u001b[0mself\u001b[0m\u001b[0;34m.\u001b[0m\u001b[0msettimeout\u001b[0m\u001b[0;34m(\u001b[0m\u001b[0mNone\u001b[0m\u001b[0;34m)\u001b[0m\u001b[0;34m\u001b[0m\u001b[0m\n\u001b[0;32m--> 846\u001b[0;31m             \u001b[0mself\u001b[0m\u001b[0;34m.\u001b[0m\u001b[0m_sslobj\u001b[0m\u001b[0;34m.\u001b[0m\u001b[0mdo_handshake\u001b[0m\u001b[0;34m(\u001b[0m\u001b[0;34m)\u001b[0m\u001b[0;34m\u001b[0m\u001b[0m\n\u001b[0m\u001b[1;32m    847\u001b[0m         \u001b[0;32mfinally\u001b[0m\u001b[0;34m:\u001b[0m\u001b[0;34m\u001b[0m\u001b[0m\n\u001b[1;32m    848\u001b[0m             \u001b[0mself\u001b[0m\u001b[0;34m.\u001b[0m\u001b[0msettimeout\u001b[0m\u001b[0;34m(\u001b[0m\u001b[0mtimeout\u001b[0m\u001b[0;34m)\u001b[0m\u001b[0;34m\u001b[0m\u001b[0m\n",
      "\u001b[0;31mKeyboardInterrupt\u001b[0m: "
     ]
    }
   ],
   "source": [
    "for i in range(repos_df.shape[0]):\n",
    "    response = requests.get(repos_df.loc[i, 'Topics URL'], \n",
    "                     headers = {\"Accept\": \"application/vnd.github.mercy-preview+json\",\n",
    "                                \"content-type\":\"application/json\"})\n",
    "    response = response.json()\n",
    "    if not response['message']:\n",
    "        topics = reponse['names']\n",
    "        topics = ', '.join(topics)\n",
    "        print(topics)\n",
    "    else:\n",
    "        print(\"Could not fetch data due to: {}\".format(response['message']))"
   ]
  },
  {
   "cell_type": "code",
   "execution_count": 95,
   "metadata": {
    "hidden": true
   },
   "outputs": [
    {
     "data": {
      "text/plain": [
       "'https://api.github.com/repos/kb22/Activity-Recognition-using-Machine-Learning/labels'"
      ]
     },
     "execution_count": 95,
     "metadata": {},
     "output_type": "execute_result"
    }
   ],
   "source": []
  },
  {
   "cell_type": "code",
   "execution_count": null,
   "metadata": {
    "hidden": true
   },
   "outputs": [],
   "source": []
  }
 ],
 "metadata": {
  "kernelspec": {
   "display_name": "Python 3",
   "language": "python",
   "name": "python3"
  },
  "language_info": {
   "codemirror_mode": {
    "name": "ipython",
    "version": 2
   },
   "file_extension": ".py",
   "mimetype": "text/x-python",
   "name": "python",
   "nbconvert_exporter": "python",
   "pygments_lexer": "ipython2",
   "version": "2.7.15"
  }
 },
 "nbformat": 4,
 "nbformat_minor": 2
}
